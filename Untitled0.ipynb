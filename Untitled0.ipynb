{
  "nbformat": 4,
  "nbformat_minor": 0,
  "metadata": {
    "colab": {
      "provenance": [],
      "authorship_tag": "ABX9TyOept8z2XCAvC3pYihb3Jg2",
      "include_colab_link": true
    },
    "kernelspec": {
      "name": "python3",
      "display_name": "Python 3"
    },
    "language_info": {
      "name": "python"
    }
  },
  "cells": [
    {
      "cell_type": "markdown",
      "metadata": {
        "id": "view-in-github",
        "colab_type": "text"
      },
      "source": [
        "<a href=\"https://colab.research.google.com/github/woongjin0922/root/blob/main/Untitled0.ipynb\" target=\"_parent\"><img src=\"https://colab.research.google.com/assets/colab-badge.svg\" alt=\"Open In Colab\"/></a>"
      ]
    },
    {
      "cell_type": "markdown",
      "source": [
        "응용문제 1:1부터 5사이에 존재하는 모든 정수를 역순으로 출력하는 프로그램을 구현하자 실행예 :5 4 3 2 1"
      ],
      "metadata": {
        "id": "qXV_dmOFmAXa"
      }
    },
    {
      "cell_type": "code",
      "source": [
        "for n in range(5, 0, -1):\n",
        "  print(n)"
      ],
      "metadata": {
        "colab": {
          "base_uri": "https://localhost:8080/"
        },
        "id": "nQUbPh70mAi8",
        "outputId": "0c2a61b3-dbc6-47f8-d28a-799fe728affb"
      },
      "execution_count": 5,
      "outputs": [
        {
          "output_type": "stream",
          "name": "stdout",
          "text": [
            "5\n",
            "4\n",
            "3\n",
            "2\n",
            "1\n"
          ]
        }
      ]
    },
    {
      "cell_type": "markdown",
      "source": [
        "응용문제2: 사용자로부터 임의의 양의정수를 하나 입력받은뒤 1부터 입력받은\n",
        "정수까지 모든 정수의 합계를 출력하는 프로그램을 구현하자\n",
        "\n",
        "1.입력받을수 있는 정수 --> end = int(input(\"\"))\n",
        "\n",
        "2.반복문을 만들고 조건을 end 까지 1씩 증가하게 만든다\n",
        "\n",
        "3.반복문이 진행되는 동안 합계를 구할수있는 변수를 이용해서 i값을 더해준다\n"
      ],
      "metadata": {
        "id": "2XGIdIH3mczq"
      }
    },
    {
      "cell_type": "code",
      "source": [
        "total = 0\n",
        "end = int(input(\"임의의 양의정수를 입력하세요>>>\"))\n",
        "\n",
        "for n in range(1,end+1):\n",
        "  total += n\n",
        "\n",
        "  print(\"1부터 {} 사이의 모든 정수의 합계는 {} 입니다.\".format(end,total))"
      ],
      "metadata": {
        "colab": {
          "base_uri": "https://localhost:8080/"
        },
        "id": "eeS7gYOrnF71",
        "outputId": "609414bd-e7d5-4d65-bec5-73db6f782203"
      },
      "execution_count": 10,
      "outputs": [
        {
          "output_type": "stream",
          "name": "stdout",
          "text": [
            "임의의 양의정수를 입력하세요>>>5\n",
            "1부터 5 사이의 모든 정수의 합계는 1 입니다.\n",
            "1부터 5 사이의 모든 정수의 합계는 3 입니다.\n",
            "1부터 5 사이의 모든 정수의 합계는 6 입니다.\n",
            "1부터 5 사이의 모든 정수의 합계는 10 입니다.\n",
            "1부터 5 사이의 모든 정수의 합계는 15 입니다.\n"
          ]
        }
      ]
    },
    {
      "cell_type": "markdown",
      "source": [
        "응용문제3: 사용자로부터 임의의 양의 정수를 하나 입력받은뒤 그 숫자만큼 과일\n",
        "이름을 입력받아 basket 리스트에 저장하는 프로그램으로 만들자\n",
        "\n",
        "몇개의 과일을 보관할까요>>>5\n",
        "\n",
        "1번째 과일을 입력하세요>>>사과\n",
        "\n",
        "2번째 과일을 입력하세요>>>바나나\n",
        "\n",
        "3번째 과일을 입력하세요>>>오렌지\n",
        "\n",
        "4번째 과일을 입력하세요>>>키위\n",
        "\n",
        "5번째 과일을 입력하세요>>>망고"
      ],
      "metadata": {
        "id": "K3JdEZoeoxfc"
      }
    },
    {
      "cell_type": "code",
      "source": [
        "count = int(input(\"몇개의 과일을 보관할까요?>>>\"))\n",
        "basket = []\n",
        "\n",
        "for n in range(count):\n",
        "  fruit = input(\"{}번째 과일을 입력하세요>>>\".format(n+1))\n",
        "  basket . append(fruit)\n",
        "\n",
        "  print(\"입력받은 과일들은 {}입니다.\".format(basketㅋ))"
      ],
      "metadata": {
        "colab": {
          "base_uri": "https://localhost:8080/"
        },
        "id": "IKBduMPLphKq",
        "outputId": "a02d6366-2553-40fc-f912-751f0968044b"
      },
      "execution_count": 18,
      "outputs": [
        {
          "output_type": "stream",
          "name": "stdout",
          "text": [
            "몇개의 과일을 보관할까요?>>>5\n",
            "1번째 과일을 입력하세요>>>사과\n",
            "입력받은 과일들은 ['사과']입니다.\n",
            "2번째 과일을 입력하세요>>>바나나\n",
            "입력받은 과일들은 ['사과', '바나나']입니다.\n",
            "3번째 과일을 입력하세요>>>오렌지\n",
            "입력받은 과일들은 ['사과', '바나나', '오렌지']입니다.\n",
            "4번째 과일을 입력하세요>>>키위\n",
            "입력받은 과일들은 ['사과', '바나나', '오렌지', '키위']입니다.\n",
            "5번째 과일을 입력하세요>>>망고\n",
            "입력받은 과일들은 ['사과', '바나나', '오렌지', '키위', '망고']입니다.\n"
          ]
        }
      ]
    },
    {
      "cell_type": "markdown",
      "source": [
        "문제4: 중간고사 성적이 발표되었습니다\n",
        "한반에 총 10명의 학생이 있고 각 학생의 국어점수를 번호순으로 나열하면 다음과 같습니다\n",
        "\n",
        "exam = [99,78,100,91,81,85,54,100,71,50]\n",
        "\n",
        "exam = [100,83,100,96,86,90,59,100,76,55]"
      ],
      "metadata": {
        "id": "EqjOvjmerrGY"
      }
    },
    {
      "cell_type": "code",
      "source": [
        "exam = [99,78,100,91,81,85,54,100,71,50]\n",
        "score = [min(n+5,100) for n in exam ]\n",
        "print(score)"
      ],
      "metadata": {
        "colab": {
          "base_uri": "https://localhost:8080/"
        },
        "id": "bK1_oW4usbi9",
        "outputId": "d9af5bf0-a464-46fc-8723-3e0d57505423"
      },
      "execution_count": 19,
      "outputs": [
        {
          "output_type": "stream",
          "name": "stdout",
          "text": [
            "[100, 83, 100, 96, 86, 90, 59, 100, 76, 55]\n"
          ]
        }
      ]
    },
    {
      "cell_type": "markdown",
      "source": [
        "문제5: 1부터 99사이의 모든 정수를 대상으로 369게임의 결과를 출력하는\n",
        "프로그램을 구현하세요."
      ],
      "metadata": {
        "id": "FNO7FEKEtWeZ"
      }
    },
    {
      "cell_type": "code",
      "source": [
        "for n in range(1,100):\n",
        "  units = n % 10\n",
        "  tens = n//10\n",
        "\n",
        "  condition1 = units % 3 == 0 and units!=0\n",
        "  condition2 = tens % 3 == 0 and tens!=0\n",
        "  if condition1 and condition2:\n",
        "    print(\"짝짝\")\n",
        "  elif condition1 or condition2:\n",
        "    print(\"짝\")\n",
        "  else:\n",
        "    print(n)\n",
        "\n",
        "  if n % 10 ==0:\n",
        "    print()"
      ],
      "metadata": {
        "colab": {
          "base_uri": "https://localhost:8080/"
        },
        "id": "XD5czqTKuaHt",
        "outputId": "2ec148ff-6f4e-4d8c-a3b3-cacb1289858f"
      },
      "execution_count": 5,
      "outputs": [
        {
          "output_type": "stream",
          "name": "stdout",
          "text": [
            "1\n",
            "2\n",
            "짝\n",
            "4\n",
            "5\n",
            "짝\n",
            "7\n",
            "8\n",
            "짝\n",
            "10\n",
            "\n",
            "11\n",
            "12\n",
            "짝\n",
            "14\n",
            "15\n",
            "짝\n",
            "17\n",
            "18\n",
            "짝\n",
            "20\n",
            "\n",
            "21\n",
            "22\n",
            "짝\n",
            "24\n",
            "25\n",
            "짝\n",
            "27\n",
            "28\n",
            "짝\n",
            "짝\n",
            "\n",
            "짝\n",
            "짝\n",
            "짝짝\n",
            "짝\n",
            "짝\n",
            "짝짝\n",
            "짝\n",
            "짝\n",
            "짝짝\n",
            "40\n",
            "\n",
            "41\n",
            "42\n",
            "짝\n",
            "44\n",
            "45\n",
            "짝\n",
            "47\n",
            "48\n",
            "짝\n",
            "50\n",
            "\n",
            "51\n",
            "52\n",
            "짝\n",
            "54\n",
            "55\n",
            "짝\n",
            "57\n",
            "58\n",
            "짝\n",
            "짝\n",
            "\n",
            "짝\n",
            "짝\n",
            "짝짝\n",
            "짝\n",
            "짝\n",
            "짝짝\n",
            "짝\n",
            "짝\n",
            "짝짝\n",
            "70\n",
            "\n",
            "71\n",
            "72\n",
            "짝\n",
            "74\n",
            "75\n",
            "짝\n",
            "77\n",
            "78\n",
            "짝\n",
            "80\n",
            "\n",
            "81\n",
            "82\n",
            "짝\n",
            "84\n",
            "85\n",
            "짝\n",
            "87\n",
            "88\n",
            "짝\n",
            "짝\n",
            "\n",
            "짝\n",
            "짝\n",
            "짝짝\n",
            "짝\n",
            "짝\n",
            "짝짝\n",
            "짝\n",
            "짝\n",
            "짝짝\n"
          ]
        }
      ]
    },
    {
      "cell_type": "markdown",
      "source": [
        "break 문제 : 대한민국 수도를 맞히는 퀴즈를 구현한 프로그램입니다\n",
        "정답을 맞힐때까지 프로그램은 종료되지 않습니다\n",
        "대한민국 수도는 어디인가요??>>부산\n",
        "오답입니다. 다시 시도하세요\n",
        "대한민국 수도는 어디인가요??>>서울\n",
        "정답입니다.--->break"
      ],
      "metadata": {
        "id": "QehpVTSZx8dA"
      }
    },
    {
      "cell_type": "code",
      "source": [
        "while True:\n",
        "  city = input(\"대한민국 수도는 어디인가요??>>.\")\n",
        "  if city == \"서울\":\n",
        "    print(\"정답입니다\")\n",
        "    break\n",
        "  else:\n",
        "    print(\"오답입니다 다시 시도하세요\")"
      ],
      "metadata": {
        "colab": {
          "base_uri": "https://localhost:8080/"
        },
        "id": "6OJb0G8AyZeW",
        "outputId": "885fe198-927a-45af-f23d-08ccd4f72754"
      },
      "execution_count": 11,
      "outputs": [
        {
          "output_type": "stream",
          "name": "stdout",
          "text": [
            "대한민국 수도는 어디인가요??>>.서울\n",
            "정답입니다\n"
          ]
        }
      ]
    },
    {
      "cell_type": "markdown",
      "source": [
        "취미를 입력하세요(종료는 그냥 엔터)>>영화\n",
        "\n",
        "취미를 입력하세요(종료는 그냥 엔터)>>운동\n",
        "\n",
        "취미를 입력하세요(종료는 그냥 엔터)>>독서\n",
        "\n",
        "취미를 입력하세요(종료는 그냥 엔터)>>음악\n",
        "\n",
        "취미를 입력하세요(종료는 그냥 엔터)>>게임\n",
        "\n",
        "입력된 취미가 모두 저장되었습니다\n",
        "\n"
      ],
      "metadata": {
        "id": "BiClb9je19Jv"
      }
    },
    {
      "cell_type": "code",
      "source": [
        "while True:\n",
        "   hobby = input(\"취미를 입력하세요>>\")\n",
        "if hobby ==\"운동\":\n",
        "  print(\"입력된 취미가 모두 저장되었습니다\")\n",
        "  break\n",
        "else:\n",
        "    hobbis.append(hobby)\n",
        "    print(hobbis)"
      ],
      "metadata": {
        "colab": {
          "base_uri": "https://localhost:8080/"
        },
        "id": "VWCtiiJU2UET",
        "outputId": "2d255fec-2352-4b1e-bcae-839f1a538e14"
      },
      "execution_count": null,
      "outputs": [
        {
          "name": "stdout",
          "output_type": "stream",
          "text": [
            "취미를 입력하세요>>영화\n",
            "취미를 입력하세요>>운동\n",
            "취미를 입력하세요>>독서\n",
            "취미를 입력하세요>>음악\n",
            "취미를 입력하세요>>게임\n"
          ]
        }
      ]
    },
    {
      "cell_type": "markdown",
      "source": [
        "총 5개의 과일이름을 보관하는데 리스트에는 '사과','감귤'\n",
        "리스트에 과일을 저장하는데 동일한 과일이 있는 경우는\n",
        "리스트에 append를 처리하지 않고 다음 반복문을 진행한다\n",
        "\n",
        "어떤 과일을 저장할까요?>>사과\n",
        "동일한 과일이 있습니다\n",
        "\n",
        "어떤 과일을 저장할까요?>>딸기\n",
        "입력이 2번 남았습니다\n",
        "\n",
        "어떤 과일을 저장할까요?>>딸기\n",
        "동일한 과정이 있습니다\n",
        "\n",
        "어떤 과일을 저장할까요?>>수박\n",
        "입력이 1번 남았습니다\n",
        "\n",
        "어떤 과일을 저장할까요?>>포도\n",
        "입력이 0번 남았습니다\n",
        "\n",
        "프로그램이 종료 되었습니다\n",
        "\n",
        "\n"
      ],
      "metadata": {
        "id": "PQgVAHwo4g3T"
      }
    },
    {
      "cell_type": "code",
      "source": [
        "fruits = ['사과','감귤']\n",
        "count = 3\n",
        "while(count>0):\n",
        "  fruit = input(\"어떤 과일을 저장할까요?>>\")\n",
        "\n",
        "  if fruit in fruits:\n",
        "    print(\"동일한 과일이 있습니다.\")\n",
        "    continue\n",
        "\n",
        "  fruits.append(fruit)\n",
        "  count = count -1\n",
        "  print(\"입력이 {} 번 남았습니다.\".format(count))\n",
        "\n",
        "print(fruits)"
      ],
      "metadata": {
        "colab": {
          "base_uri": "https://localhost:8080/"
        },
        "id": "tB_fu_a66_co",
        "outputId": "d0fc401e-c340-4d8e-afbe-2fb5c89490f5"
      },
      "execution_count": 10,
      "outputs": [
        {
          "output_type": "stream",
          "name": "stdout",
          "text": [
            "어떤 과일을 저장할까요?>>사과\n",
            "동일한 과일이 있습니다.\n",
            "어떤 과일을 저장할까요?>>규ㅜㄹ\n",
            "입력이 2 번 남았습니다.\n",
            "어떤 과일을 저장할까요?>>망고\n",
            "입력이 1 번 남았습니다.\n",
            "어떤 과일을 저장할까요?>>파인애플\n",
            "입력이 0 번 남았습니다.\n",
            "['사과', '감귤', '규ㅜㄹ', '망고', '파인애플']\n"
          ]
        }
      ]
    },
    {
      "cell_type": "markdown",
      "source": [
        "section: 응용문제\n",
        "문제1 : 현재 10000원을 가지고 있습니다 . 얼마를 사용할 것인지\n",
        "반복해서 입력받아 1000원을 모두 사용하세요\n",
        "0이하의 금액은 사용할수 없으며 현재 가지고 있는 돈 보다 더 큰 금액도\n",
        "사용할수 있습니다\n",
        "\n",
        "현재 10000원이 있습니다\n",
        "사용할 금액 입력 >>> 5000\n",
        "현재 5000원이 있습니다\n",
        "사용할 금액 입력 >>> 0\n",
        "0이하의 금액은 사용할수 없습니다\n",
        "사용할 금액 입력 >>> 6000\n",
        "1000원이 부족합니다\n",
        "사용할 금액 입력 >>> 4000\n",
        "현재 1000원이 있습니다\n",
        "사용할 금액 입력 >>> 1000\n",
        "현재 0원이 있습니다"
      ],
      "metadata": {
        "id": "Bcl-ebt48PWj"
      }
    },
    {
      "cell_type": "code",
      "source": [
        "from re import X\n",
        "money = 10000\n",
        "\n",
        "while True:\n",
        "  print(\"현재 {} 원이 있습니다.\".format(money))\n",
        "  if money == 0:\n",
        "    break1\n",
        "  spend = int(input(\"사용할 금액 입력>>\"))\n",
        "  if spend <=0 :\n",
        "   print(\"0이하의 금액은 사용할수 없습니다.\")\n",
        "  elif spend>money:\n",
        "   print(\"{}원이 부족합니다.\".format(spend-money))\n",
        "  else:\n",
        "    money = money - spend"
      ],
      "metadata": {
        "colab": {
          "base_uri": "https://localhost:8080/"
        },
        "id": "B-1QkHm19NOl",
        "outputId": "73b80cce-e867-4366-d049-12fba1e1273b"
      },
      "execution_count": 13,
      "outputs": [
        {
          "output_type": "stream",
          "name": "stdout",
          "text": [
            "현재 10000 원이 있습니다.\n",
            "사용할 금액 입력>>11000\n",
            "1000원이 부족합니다.\n",
            "현재 10000 원이 있습니다.\n",
            "사용할 금액 입력>>7000\n",
            "현재 3000 원이 있습니다.\n",
            "사용할 금액 입력>>2000\n",
            "현재 1000 원이 있습니다.\n",
            "사용할 금액 입력>>1000\n",
            "현재 0 원이 있습니다.\n"
          ]
        }
      ]
    },
    {
      "cell_type": "markdown",
      "source": [
        "문제2: 영화 평점을 1부터 5사이의 정수로 입력받아서 평점만큼 ★를\n",
        "표시하는 프로그램을 만들자\n",
        "\n",
        "이번 영화의 평점을 입력하세요>>10\n",
        "평점은 1~5까지 사이만 입력할수있다\n",
        "이번 영화의 평점을 입력하세요>>2\n",
        "평점:★★ 종료 된다"
      ],
      "metadata": {
        "id": "nmufBCX8-2-C"
      }
    },
    {
      "cell_type": "code",
      "source": [
        "while True:\n",
        "  grade = int(input(\"이번 영화의 평점을 입력하세요\"))\n",
        "  if grade >=1 and grade >=5:\n",
        "    print('★'*grade)\n",
        "    break\n",
        "  elif grade == 2:\n",
        "        print(\"평점은 1~5 사이만 입력할수 있습니다.\")\n",
        "\n"
      ],
      "metadata": {
        "colab": {
          "base_uri": "https://localhost:8080/"
        },
        "id": "z_yUJWGQ_QdT",
        "outputId": "1f3af39e-0cf3-4e74-8504-2ce1c28b5b6a"
      },
      "execution_count": 17,
      "outputs": [
        {
          "output_type": "stream",
          "name": "stdout",
          "text": [
            "이번 영화의 평점을 입력하세요4\n",
            "이번 영화의 평점을 입력하세요1\n",
            "이번 영화의 평점을 입력하세요5\n",
            "★★★★★\n"
          ]
        }
      ]
    },
    {
      "cell_type": "markdown",
      "source": [
        "문제3: 비밀번호 맞히는 프로그램이다\n",
        "저장된 비밀번호는 qwerty이며 최대 5번만 시도할수 있습니다\n",
        "5번 이내에 비밀번호를 맞히면 비밀번호를 맞혔습니다. 출력하고 그렇지 않으면\n",
        "비밀번호 횟수를 초과했습니다. 출력하세요"
      ],
      "metadata": {
        "id": "An2ObcBPA8p6"
      }
    },
    {
      "cell_type": "code",
      "source": [
        "answer = 'qwerty'\n",
        "count = 0\n",
        "\n",
        "while True:\n",
        "  if count == 5:\n",
        "    print(\"비밀번호 입력 횟수를 초과했습니다\")\n",
        "    break\n",
        "  pw = input('비밀번호를 입력하세요>>>')\n",
        "  if pw == answer:\n",
        "    print(\"비밀번호를 맞췄습니다\")\n",
        "    break\n",
        "\n",
        "  count+=1"
      ],
      "metadata": {
        "colab": {
          "base_uri": "https://localhost:8080/"
        },
        "id": "EJ7zm6dGB5Mk",
        "outputId": "ec81fef6-382d-4a5a-b449-395235f83a0a"
      },
      "execution_count": 18,
      "outputs": [
        {
          "output_type": "stream",
          "name": "stdout",
          "text": [
            "비밀번호를 입력하세요>>>asdf\n",
            "비밀번호를 입력하세요>>>asdf\n",
            "비밀번호를 입력하세요>>>asd\n",
            "비밀번호를 입력하세요>>>sdtg\n",
            "비밀번호를 입력하세요>>>sg\n",
            "비밀번호 입력 횟수를 초과했습니다\n"
          ]
        }
      ]
    },
    {
      "cell_type": "markdown",
      "source": [
        "문제 4번 구구단을 완성하자\n",
        "짝수인 단(2/4/6/8)은 출력하지 말고 blak 라인만 추가하세요\n",
        "각 단깢지만 출력하세요\n",
        "3단: 3*3까지만 출력\n",
        "5단: 5*5까지만 출력\n",
        "7단: 7*7까지만 출력\n",
        "9단: 9*9까지만 출력\n"
      ],
      "metadata": {
        "id": "xBY3MHJGDHhI"
      }
    },
    {
      "cell_type": "code",
      "source": [
        "for dan in range(2,10):\n",
        "  if dan%2==0:\n",
        "    print()\n",
        "    continue\n",
        "\n",
        "  for n in range(1,10):\n",
        "    if dan < n:\n",
        "      break\n",
        "    print(\"{0} * {1} = {2}\".format(dan,n,dan*n))\n"
      ],
      "metadata": {
        "colab": {
          "base_uri": "https://localhost:8080/"
        },
        "id": "20sqxFUoDsle",
        "outputId": "046ed3d9-b9c8-4098-952d-3061c758559f"
      },
      "execution_count": 35,
      "outputs": [
        {
          "output_type": "stream",
          "name": "stdout",
          "text": [
            "\n",
            "3 * 1 = 3\n",
            "3 * 2 = 6\n",
            "3 * 3 = 9\n",
            "\n",
            "5 * 1 = 5\n",
            "5 * 2 = 10\n",
            "5 * 3 = 15\n",
            "5 * 4 = 20\n",
            "5 * 5 = 25\n",
            "\n",
            "7 * 1 = 7\n",
            "7 * 2 = 14\n",
            "7 * 3 = 21\n",
            "7 * 4 = 28\n",
            "7 * 5 = 35\n",
            "7 * 6 = 42\n",
            "7 * 7 = 49\n",
            "\n",
            "9 * 1 = 9\n",
            "9 * 2 = 18\n",
            "9 * 3 = 27\n",
            "9 * 4 = 36\n",
            "9 * 5 = 45\n",
            "9 * 6 = 54\n",
            "9 * 7 = 63\n",
            "9 * 8 = 72\n",
            "9 * 9 = 81\n"
          ]
        }
      ]
    }
  ]
}